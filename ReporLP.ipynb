{
 "cells": [
  {
   "cell_type": "markdown",
   "id": "8b53f2a4-9fa1-4046-8290-f5c9d6889408",
   "metadata": {},
   "source": [
    "<center><h1><span style=\"\">Universidad Nacional Agraria La Molina</span></h1></center>\n",
    "<center><h2><span style=\"\">Estadística Infórmatica</span></h2></center>\n",
    "\n",
    "<center><img src=\"escudo1.jpg\" width=\"300\" height=\"200\"></center>\n",
    "\n",
    "<center><h4><span style=\"\">Curso: Lenguaje de Programación II</span></h4></center>\n",
    "<center><h3><span style=\"\"> <b>Proyecto: <i></b></i></span></h3></center>\n",
    "\n",
    "<center><h3><span style=\"\">Profesora: Dra. Ana Cecilia VARGAS PAREDES</span></h3></center>\n",
    "\n",
    "### Integrantes: \n",
    "\n",
    "## Introducción\n"
   ]
  },
  {
   "cell_type": "markdown",
   "id": "df4fb5ad-fbd9-489e-bc86-43dd663f8a2f",
   "metadata": {},
   "source": [
    "## Objetivos del proyecto\n",
    "### Objetivo general:\n",
    "### Objetivos específicos:"
   ]
  },
  {
   "cell_type": "markdown",
   "id": "7ac1bacf",
   "metadata": {},
   "source": [
    "#### Extración de información \n"
   ]
  },
  {
   "cell_type": "markdown",
   "id": "a2155367",
   "metadata": {},
   "source": [
    "#### Descarga automatizada del csv"
   ]
  }
 ],
 "metadata": {
  "kernelspec": {
   "display_name": "Python 3 (ipykernel)",
   "language": "python",
   "name": "python3"
  },
  "language_info": {
   "codemirror_mode": {
    "name": "ipython",
    "version": 3
   },
   "file_extension": ".py",
   "mimetype": "text/x-python",
   "name": "python",
   "nbconvert_exporter": "python",
   "pygments_lexer": "ipython3",
   "version": "3.12.4"
  }
 },
 "nbformat": 4,
 "nbformat_minor": 5
}
